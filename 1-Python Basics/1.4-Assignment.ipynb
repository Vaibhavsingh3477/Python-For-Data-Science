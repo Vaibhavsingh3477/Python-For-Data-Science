{
 "cells": [
  {
   "cell_type": "markdown",
   "id": "f4df1217",
   "metadata": {},
   "source": [
    "# Lesson 1.2: Python Basics\n",
    "## Topics Covered:\n",
    "- Syntax and Semantics\n",
    "- Variables and Data Types\n",
    "- Basic Operators (Arithmetic, Comparison, Logical)\n"
   ]
  },
  {
   "cell_type": "markdown",
   "id": "f730f8f7",
   "metadata": {},
   "source": [
    "## 1. Syntax and Semantics\n",
    "\n",
    "**Question 1:** Write a Python program to print \"Hello, World!\"."
   ]
  },
  {
   "cell_type": "code",
   "execution_count": 1,
   "id": "aaba19b4",
   "metadata": {},
   "outputs": [
    {
     "name": "stdout",
     "output_type": "stream",
     "text": [
      "Hello, World!\n"
     ]
    }
   ],
   "source": [
    "# Your code here\n",
    "print(\"Hello, World!\")"
   ]
  },
  {
   "cell_type": "markdown",
   "id": "b7d6f754",
   "metadata": {},
   "source": [
    "**Question 2:** Write a Python program that takes a user input and prints it."
   ]
  },
  {
   "cell_type": "code",
   "execution_count": 2,
   "id": "ba5fb0f6",
   "metadata": {},
   "outputs": [
    {
     "name": "stdout",
     "output_type": "stream",
     "text": [
      "You entered: Hello Bro\n"
     ]
    }
   ],
   "source": [
    "# Your code here\n",
    "input_string = input(\"Enter a string: \")\n",
    "print(f\"You entered: {input_string}\")"
   ]
  },
  {
   "cell_type": "markdown",
   "id": "a085eede",
   "metadata": {},
   "source": [
    "**Question 3:** Write a Python program to check if a number is positive, negative, or zero."
   ]
  },
  {
   "cell_type": "code",
   "execution_count": 9,
   "id": "9a889450",
   "metadata": {},
   "outputs": [
    {
     "name": "stdout",
     "output_type": "stream",
     "text": [
      "You entered: -1\n",
      "The number is negative.\n"
     ]
    }
   ],
   "source": [
    "# Your code here\n",
    "num = int(input(\"Enter a number: \"))\n",
    "print(f\"You entered: {num}\")\n",
    "if(num>0):\n",
    "    print(\"The number is positive.\")\n",
    "elif(num<0):\n",
    "    print(\"The number is negative.\")\n",
    "else:\n",
    "    print(\"The number is zero.\")"
   ]
  },
  {
   "cell_type": "markdown",
   "id": "f3312d39",
   "metadata": {},
   "source": [
    "**Question 4:** Write a Python program to find the largest of three numbers."
   ]
  },
  {
   "cell_type": "code",
   "execution_count": 17,
   "id": "b5356d90",
   "metadata": {},
   "outputs": [
    {
     "name": "stdout",
     "output_type": "stream",
     "text": [
      "You entered: 11, 353, 3\n",
      "The Maximum Number is :  353\n"
     ]
    },
    {
     "data": {
      "text/plain": [
       "'\\nif(num1>num2 and num1>num3):\\n    print(\"The Largest number is :\", num1)\\nelif(num2>num1 and num2>num3):\\n    print(\"The Largest number is :\", num2)\\nelif(num3>num1 and num3>num2):\\n    print(\"The Largest number is :\", num3)\\nelse:\\n    print(\"All numbers are equal.\")\\n'"
      ]
     },
     "execution_count": 17,
     "metadata": {},
     "output_type": "execute_result"
    }
   ],
   "source": [
    "# Your code here\n",
    "num1 = int(input(\"Enter 1st number: \"))\n",
    "num2 = int(input(\"Enter 2nd number: \"))\n",
    "num3 = int(input(\"Enter 3rd number: \"))\n",
    "\n",
    "print(f\"You entered: {num1}, {num2}, {num3}\")\n",
    "print(\"The Maximum Number is : \",max(num1,num2,num3))\n",
    "\n",
    "'''\n",
    "if(num1>num2 and num1>num3):\n",
    "    print(\"The Largest number is :\", num1)\n",
    "elif(num2>num1 and num2>num3):\n",
    "    print(\"The Largest number is :\", num2)\n",
    "elif(num3>num1 and num3>num2):\n",
    "    print(\"The Largest number is :\", num3)\n",
    "else:\n",
    "    print(\"All numbers are equal.\")\n",
    "'''\n"
   ]
  },
  {
   "cell_type": "markdown",
   "id": "c76a3086",
   "metadata": {},
   "source": [
    "**Question 5:** Write a Python program to calculate the factorial of a number."
   ]
  },
  {
   "cell_type": "code",
   "execution_count": 18,
   "id": "232ee5c7",
   "metadata": {},
   "outputs": [
    {
     "name": "stdout",
     "output_type": "stream",
     "text": [
      "The factorial of 5 is 120.\n"
     ]
    }
   ],
   "source": [
    "# Your code here\n",
    "def factorial(n):\n",
    "    if (n == 0) or (n == 1):\n",
    "        return 1\n",
    "    else:\n",
    "        return n * factorial(n - 1)\n",
    "\n",
    "num = int(input(\"Enter a number: \"))\n",
    "if num < 0:\n",
    "    print(\"Factorial is not defined for negative numbers.\")\n",
    "else:\n",
    "    print(f\"The factorial of {num} is {factorial(num)}.\")\n"
   ]
  },
  {
   "cell_type": "markdown",
   "id": "ff2808d1",
   "metadata": {},
   "source": [
    "## 2. Variables and Data Types\n",
    "\n",
    "**Question 6:** Create variables of different data types: integer, float, string, and boolean. Print their values and types."
   ]
  },
  {
   "cell_type": "code",
   "execution_count": null,
   "id": "5087bfc9",
   "metadata": {},
   "outputs": [],
   "source": [
    "# Your code here\n"
   ]
  },
  {
   "cell_type": "code",
   "execution_count": null,
   "id": "9cadc225",
   "metadata": {},
   "outputs": [
    {
     "name": "stdout",
     "output_type": "stream",
     "text": [
      "Integer: 42, Type: <class 'int'>\n",
      "Float: 3.14, Type: <class 'float'>\n",
      "String: Python, Type: <class 'str'>\n",
      "Boolean: True, Type: <class 'bool'>\n",
      "String Value: Python, Type: <class 'str'>\n"
     ]
    }
   ],
   "source": [
    "# Creating variables of different data types\n",
    "integer_var = 42  # integer\n",
    "float_var = 3.14  # float\n",
    "string_var = \"Python\"  # string\n",
    "boolean_var = True  # boolean\n",
    "\n",
    "# Printing their values and types\n",
    "print(f\"Integer: {integer_var}, Type: {type(integer_var)}\")\n",
    "print(f\"Float: {float_var}, Type: {type(float_var)}\")\n",
    "print(f\"String: {string_var}, Type: {type(string_var)}\")\n",
    "print(f\"Boolean: {boolean_var}, Type: {type(boolean_var)}\")\n",
    "print(f\"String Value: {string_var}, Type: {type(string_var)}\")"
   ]
  },
  {
   "cell_type": "markdown",
   "id": "c4f6a870",
   "metadata": {},
   "source": [
    "**Question 7:** Write a Python program to swap the values of two variables."
   ]
  },
  {
   "cell_type": "code",
   "execution_count": 24,
   "id": "37329cfa",
   "metadata": {},
   "outputs": [
    {
     "name": "stdout",
     "output_type": "stream",
     "text": [
      "Before swapping:\n",
      "1st number: 10\n",
      "2nd number: 50\n",
      "After swapping:\n",
      "1st number: 50\n",
      "2nd number: 10\n"
     ]
    }
   ],
   "source": [
    "# Your code here\n",
    "num1 = int(input(\"Enter 1st number: \"))\n",
    "num2 = int(input(\"Enter 2nd number: \"))\n",
    "print(\"Before swapping:\")\n",
    "print(\"1st number:\", num1)\n",
    "print(\"2nd number:\", num2)\n",
    "temp = num1\n",
    "num1 = num2\n",
    "num2 = temp\n",
    "print(\"After swapping:\")\n",
    "print(\"1st number:\", num1)\n",
    "print(\"2nd number:\", num2)\n"
   ]
  },
  {
   "cell_type": "markdown",
   "id": "5f182b94",
   "metadata": {},
   "source": [
    "**Question 8:** Write a Python program to convert Celsius to Fahrenheit."
   ]
  },
  {
   "cell_type": "code",
   "execution_count": 25,
   "id": "9416aa13",
   "metadata": {},
   "outputs": [
    {
     "name": "stdout",
     "output_type": "stream",
     "text": [
      "100.0°C is equal to 212.0°F.\n"
     ]
    }
   ],
   "source": [
    "# Celsius to Fahrenheit conversion\n",
    "celsius = float(input(\"Enter temperature in Celsius: \"))\n",
    "fahrenheit = (celsius * 9/5) + 32\n",
    "print(f\"{celsius}°C is equal to {fahrenheit}°F.\")"
   ]
  },
  {
   "cell_type": "markdown",
   "id": "436591ab",
   "metadata": {},
   "source": [
    "**Question 9:** Write a Python program to concatenate two strings."
   ]
  },
  {
   "cell_type": "code",
   "execution_count": null,
   "id": "841814ab",
   "metadata": {},
   "outputs": [],
   "source": [
    "# Your code here"
   ]
  },
  {
   "cell_type": "code",
   "execution_count": 26,
   "id": "3cd5dddb",
   "metadata": {},
   "outputs": [
    {
     "name": "stdout",
     "output_type": "stream",
     "text": [
      "The concatenated string is: HelloMayank\n"
     ]
    }
   ],
   "source": [
    "# Concatenating two strings\n",
    "string1 = input(\"Enter the first string: \")\n",
    "string2 = input(\"Enter the second string: \")\n",
    "\n",
    "concatenated_string = string1 + string2\n",
    "print(f\"The concatenated string is: {concatenated_string}\")"
   ]
  },
  {
   "cell_type": "markdown",
   "id": "6e29c28b",
   "metadata": {},
   "source": [
    "**Question 10:** Write a Python program to check if a variable is of a specific data type."
   ]
  },
  {
   "cell_type": "code",
   "execution_count": 3,
   "id": "d20c77e2",
   "metadata": {},
   "outputs": [
    {
     "name": "stdout",
     "output_type": "stream",
     "text": [
      "The variable is of type: <class 'str'>\n"
     ]
    }
   ],
   "source": [
    "# Checking if a variable is of a specific data type\n",
    "variable = input(\"Enter a value: \")\n",
    "\n",
    "if variable.isdigit():\n",
    "    variable = int(variable)\n",
    "    print(f\"The variable is of type: {type(variable)}\")\n",
    "elif variable.replace('.', '', 1).isdigit() and variable.count('.') < 2:\n",
    "    variable = float(variable)\n",
    "    print(f\"The variable is of type: {type(variable)}\")\n",
    "else:\n",
    "    print(f\"The variable is of type: {type(variable)}\")"
   ]
  },
  {
   "cell_type": "markdown",
   "id": "10401079",
   "metadata": {},
   "source": [
    "## 3. Basic Operators (Arithmetic, Comparison, Logical)\n",
    "\n",
    "**Question 11:** Write a Python program to perform arithmetic operations: addition, subtraction, multiplication, and division."
   ]
  },
  {
   "cell_type": "code",
   "execution_count": 4,
   "id": "91a6fc95",
   "metadata": {},
   "outputs": [
    {
     "name": "stdout",
     "output_type": "stream",
     "text": [
      "Addition: 5 + 4 = 9\n",
      "Subtraction: 5 - 4 = 1\n",
      "Multiplication: 5 * 4 = 20\n",
      "Division: 5 / 4 = 1.25\n",
      "Modulus: 5 % 4 = 1\n",
      "Exponentiation: 5 ** 4 = 625\n"
     ]
    }
   ],
   "source": [
    "# Your code here\n",
    "# Taking two numbers as input\n",
    "num1 = int(input(\"Enter the first number: \"))\n",
    "num2 = int(input(\"Enter the second number: \"))\n",
    "\n",
    "add_num = num1 + num2\n",
    "sub_num = num1 - num2\n",
    "mul_num = num1 * num2\n",
    "div_num = num1 / num2\n",
    "mod_num = num1 % num2\n",
    "exp_num = num1 ** num2\n",
    "\n",
    "print(f\"Addition: {num1} + {num2} = {add_num}\")\n",
    "print(f\"Subtraction: {num1} - {num2} = {sub_num}\")\n",
    "print(f\"Multiplication: {num1} * {num2} = {mul_num}\")\n",
    "print(f\"Division: {num1} / {num2} = {div_num}\")\n",
    "print(f\"Modulus: {num1} % {num2} = {mod_num}\")\n",
    "print(f\"Exponentiation: {num1} ** {num2} = {exp_num}\")"
   ]
  },
  {
   "cell_type": "markdown",
   "id": "926ae3b6",
   "metadata": {},
   "source": [
    "**Question 12:** Write a Python program to demonstrate comparison operators: equal to, not equal to, greater than, less than."
   ]
  },
  {
   "cell_type": "code",
   "execution_count": null,
   "id": "38b05cab",
   "metadata": {},
   "outputs": [],
   "source": [
    "# Your code here"
   ]
  },
  {
   "cell_type": "markdown",
   "id": "5f20ba36",
   "metadata": {},
   "source": [
    "**Question 13:** Write a Python program to demonstrate logical operators: and, or, not."
   ]
  },
  {
   "cell_type": "code",
   "execution_count": null,
   "id": "c91c594b",
   "metadata": {},
   "outputs": [],
   "source": [
    "# Your code here"
   ]
  },
  {
   "cell_type": "markdown",
   "id": "b7d27ce3",
   "metadata": {},
   "source": [
    "**Question 14:** Write a Python program to calculate the square of a number."
   ]
  },
  {
   "cell_type": "code",
   "execution_count": 9,
   "id": "a21395ac",
   "metadata": {},
   "outputs": [
    {
     "name": "stdout",
     "output_type": "stream",
     "text": [
      "The number is: 2, and the Square is 4\n"
     ]
    }
   ],
   "source": [
    "# Your code here\n",
    "num = int(input(\"Enter a number: \"))\n",
    "print(f\"The number is: {num}, and the Square is {num**2}\")\n",
    "\n"
   ]
  },
  {
   "cell_type": "markdown",
   "id": "79da797c",
   "metadata": {},
   "source": [
    "**Question 15:** Write a Python program to check if a number is even or odd."
   ]
  },
  {
   "cell_type": "code",
   "execution_count": null,
   "id": "ca0bbc25",
   "metadata": {},
   "outputs": [],
   "source": [
    "# Your code here"
   ]
  },
  {
   "cell_type": "markdown",
   "id": "23268cbb",
   "metadata": {},
   "source": [
    "**Question 16:** Write a Python program to find the sum of the first n natural numbers."
   ]
  },
  {
   "cell_type": "code",
   "execution_count": null,
   "id": "65a75eeb",
   "metadata": {},
   "outputs": [],
   "source": [
    "# Your code here"
   ]
  },
  {
   "cell_type": "markdown",
   "id": "b6932f05",
   "metadata": {},
   "source": [
    "**Question 17:** Write a Python program to check if a year is a leap year."
   ]
  },
  {
   "cell_type": "code",
   "execution_count": null,
   "id": "8425f318",
   "metadata": {},
   "outputs": [],
   "source": [
    "# Your code here"
   ]
  },
  {
   "cell_type": "markdown",
   "id": "57c25a1d",
   "metadata": {},
   "source": [
    "**Question 18:** Write a Python program to reverse a string."
   ]
  },
  {
   "cell_type": "code",
   "execution_count": 10,
   "id": "e85c7767",
   "metadata": {},
   "outputs": [
    {
     "name": "stdout",
     "output_type": "stream",
     "text": [
      "The string is: Hello\n",
      "The reversed string is: olleH\n"
     ]
    }
   ],
   "source": [
    "# Your code here\n",
    "str = input(\"Enter a string: \")\n",
    "print(f\"The string is: {str}\")\n",
    "\n",
    "rev_str = str[::-1]\n",
    "print(f\"The reversed string is: {rev_str}\")"
   ]
  },
  {
   "cell_type": "markdown",
   "id": "0bfa7f77",
   "metadata": {},
   "source": [
    "**Question 19:** Write a Python program to check if a string is a palindrome."
   ]
  },
  {
   "cell_type": "code",
   "execution_count": 18,
   "id": "d5652aef",
   "metadata": {},
   "outputs": [
    {
     "name": "stdout",
     "output_type": "stream",
     "text": [
      "The string 'hoh' is a palindrome.\n"
     ]
    }
   ],
   "source": [
    "# Function to check if a string is a palindrome\n",
    "def is_palindrome(s):\n",
    "    return s == s[::-1]\n",
    "\n",
    "# Input from the user\n",
    "string = input(\"Enter a string: \")\n",
    "\n",
    "# Check if the string is a palindrome\n",
    "if is_palindrome(string):\n",
    "    print(f\"The string '{string}' is a palindrome.\")\n",
    "else:\n",
    "    print(f\"The string '{string}' is not a palindrome.\")"
   ]
  },
  {
   "cell_type": "markdown",
   "id": "307384bf",
   "metadata": {},
   "source": [
    "**Question 20:** Write a Python program to sort a list of numbers in ascending order."
   ]
  },
  {
   "cell_type": "code",
   "execution_count": 22,
   "id": "43ed853f",
   "metadata": {},
   "outputs": [
    {
     "name": "stdout",
     "output_type": "stream",
     "text": [
      "The sorted list in ascending order is: [0, 1, 1, 2, 3, 3, 3, 5, 8, 66, 67]\n"
     ]
    }
   ],
   "source": [
    "# Sorting a list of numbers in ascending order\n",
    "numbers = list(map(int, input(\"Enter numbers separated by spaces: \").split()))\n",
    "sorted_numbers = sorted(numbers)\n",
    "print(f\"The sorted list in ascending order is: {sorted_numbers}\")"
   ]
  }
 ],
 "metadata": {
  "kernelspec": {
   "display_name": "venv",
   "language": "python",
   "name": "python3"
  },
  "language_info": {
   "codemirror_mode": {
    "name": "ipython",
    "version": 3
   },
   "file_extension": ".py",
   "mimetype": "text/x-python",
   "name": "python",
   "nbconvert_exporter": "python",
   "pygments_lexer": "ipython3",
   "version": "3.13.2"
  }
 },
 "nbformat": 4,
 "nbformat_minor": 5
}
